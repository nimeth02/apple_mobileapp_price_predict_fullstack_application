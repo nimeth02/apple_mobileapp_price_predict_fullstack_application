{
 "cells": [
  {
   "cell_type": "code",
   "execution_count": 61,
   "id": "5c38860c",
   "metadata": {},
   "outputs": [],
   "source": [
    "import pandas as pd\n",
    "import matplotlib.pyplot as plt\n",
    "df=pd.read_csv(\"C:\\\\Users\\\\nimet\\\\predictit\\\\apple_phone_dataset_update_new_visualized.csv\")\n",
    "df=df.drop_duplicates()"
   ]
  },
  {
   "cell_type": "code",
   "execution_count": 68,
   "id": "8d29f83c",
   "metadata": {},
   "outputs": [],
   "source": [
    "from sklearn import linear_model\n",
    "reg = linear_model.LinearRegression()"
   ]
  },
  {
   "cell_type": "code",
   "execution_count": 65,
   "id": "c88f5227",
   "metadata": {},
   "outputs": [],
   "source": [
    "from sklearn.model_selection import StratifiedKFold\n",
    "folds = StratifiedKFold(n_splits=10)"
   ]
  },
  {
   "cell_type": "code",
   "execution_count": 66,
   "id": "6c54bce1",
   "metadata": {},
   "outputs": [],
   "source": [
    "from sklearn.ensemble import RandomForestClassifier\n",
    "rfc = RandomForestClassifier(n_estimators=20)"
   ]
  },
  {
   "cell_type": "code",
   "execution_count": 69,
   "id": "4d1dc9d9",
   "metadata": {},
   "outputs": [],
   "source": [
    "from sklearn.naive_bayes import GaussianNB\n",
    "model = GaussianNB()"
   ]
  },
  {
   "cell_type": "code",
   "execution_count": 70,
   "id": "9e822e71",
   "metadata": {},
   "outputs": [],
   "source": [
    "from sklearn.linear_model import LogisticRegression\n",
    "model = LogisticRegression()"
   ]
  },
  {
   "cell_type": "code",
   "execution_count": 71,
   "id": "98b104f6",
   "metadata": {},
   "outputs": [],
   "source": [
    "from sklearn import tree\n",
    "dst = tree.DecisionTreeClassifier()"
   ]
  },
  {
   "cell_type": "code",
   "execution_count": null,
   "id": "b567199c",
   "metadata": {},
   "outputs": [],
   "source": [
    "from sklearn.svm import SVC\n",
    "sv = SVC()"
   ]
  },
  {
   "cell_type": "code",
   "execution_count": 72,
   "id": "98f2b03e",
   "metadata": {},
   "outputs": [],
   "source": [
    "from sklearn.cluster import KMeans\n",
    "km = KMeans(n_clusters=3)"
   ]
  },
  {
   "cell_type": "code",
   "execution_count": 73,
   "id": "760ca303",
   "metadata": {},
   "outputs": [],
   "source": [
    "from sklearn.linear_model import Ridge\n",
    "ridge = Ridge(alpha=2.0)"
   ]
  },
  {
   "cell_type": "code",
   "execution_count": 74,
   "id": "1b018ee4",
   "metadata": {},
   "outputs": [],
   "source": [
    "from sklearn.linear_model import Lasso\n",
    "lasso = Lasso(alpha=7.0)"
   ]
  },
  {
   "cell_type": "code",
   "execution_count": 76,
   "id": "7176193c",
   "metadata": {},
   "outputs": [
    {
     "ename": "NameError",
     "evalue": "name 'C' is not defined",
     "output_type": "error",
     "traceback": [
      "\u001b[1;31m---------------------------------------------------------------------------\u001b[0m",
      "\u001b[1;31mNameError\u001b[0m                                 Traceback (most recent call last)",
      "\u001b[1;32m~\\AppData\\Local\\Temp\\ipykernel_22024\\2131113458.py\u001b[0m in \u001b[0;36m<module>\u001b[1;34m\u001b[0m\n\u001b[0;32m      1\u001b[0m \u001b[1;32mfrom\u001b[0m \u001b[0msklearn\u001b[0m\u001b[1;33m.\u001b[0m\u001b[0mgaussian_process\u001b[0m \u001b[1;32mimport\u001b[0m \u001b[0mGaussianProcessRegressor\u001b[0m\u001b[1;33m\u001b[0m\u001b[1;33m\u001b[0m\u001b[0m\n\u001b[1;32m----> 2\u001b[1;33m \u001b[0mkernel\u001b[0m \u001b[1;33m=\u001b[0m \u001b[0mC\u001b[0m\u001b[1;33m(\u001b[0m\u001b[1;36m1.0\u001b[0m\u001b[1;33m,\u001b[0m \u001b[1;33m(\u001b[0m\u001b[1;36m1e-3\u001b[0m\u001b[1;33m,\u001b[0m \u001b[1;36m1e3\u001b[0m\u001b[1;33m)\u001b[0m\u001b[1;33m)\u001b[0m \u001b[1;33m*\u001b[0m \u001b[0mRBF\u001b[0m\u001b[1;33m(\u001b[0m\u001b[1;36m1.0\u001b[0m\u001b[1;33m,\u001b[0m \u001b[1;33m(\u001b[0m\u001b[1;36m1e-2\u001b[0m\u001b[1;33m,\u001b[0m \u001b[1;36m1e2\u001b[0m\u001b[1;33m)\u001b[0m\u001b[1;33m)\u001b[0m\u001b[1;33m\u001b[0m\u001b[1;33m\u001b[0m\u001b[0m\n\u001b[0m\u001b[0;32m      3\u001b[0m \u001b[0mgp\u001b[0m \u001b[1;33m=\u001b[0m \u001b[0mGaussianProcessRegressor\u001b[0m\u001b[1;33m(\u001b[0m\u001b[0mkernel\u001b[0m\u001b[1;33m=\u001b[0m\u001b[0mkernel\u001b[0m\u001b[1;33m,\u001b[0m \u001b[0mn_restarts_optimizer\u001b[0m\u001b[1;33m=\u001b[0m\u001b[1;36m10\u001b[0m\u001b[1;33m)\u001b[0m\u001b[1;33m\u001b[0m\u001b[1;33m\u001b[0m\u001b[0m\n",
      "\u001b[1;31mNameError\u001b[0m: name 'C' is not defined"
     ]
    }
   ],
   "source": [
    "from sklearn.gaussian_process import GaussianProcessRegressor\n",
    "kernel = C(1.0, (1e-3, 1e3)) * RBF(1.0, (1e-2, 1e2))\n",
    "gp = GaussianProcessRegressor(kernel=kernel, n_restarts_optimizer=10)"
   ]
  },
  {
   "cell_type": "code",
   "execution_count": 77,
   "id": "050a7a45",
   "metadata": {},
   "outputs": [],
   "source": [
    "from sklearn.preprocessing import PolynomialFeatures\n",
    "poly = PolynomialFeatures(degree=3)\n",
    "x_train = poly.fit_transform(x_train)\n",
    "x_test = poly.fit_transform(x_test)\n"
   ]
  },
  {
   "cell_type": "code",
   "execution_count": 78,
   "id": "f9811ef2",
   "metadata": {
    "scrolled": true
   },
   "outputs": [
    {
     "data": {
      "text/html": [
       "<div>\n",
       "<style scoped>\n",
       "    .dataframe tbody tr th:only-of-type {\n",
       "        vertical-align: middle;\n",
       "    }\n",
       "\n",
       "    .dataframe tbody tr th {\n",
       "        vertical-align: top;\n",
       "    }\n",
       "\n",
       "    .dataframe thead th {\n",
       "        text-align: right;\n",
       "    }\n",
       "</style>\n",
       "<table border=\"1\" class=\"dataframe\">\n",
       "  <thead>\n",
       "    <tr style=\"text-align: right;\">\n",
       "      <th></th>\n",
       "      <th>Condition</th>\n",
       "      <th>Model</th>\n",
       "      <th>Location</th>\n",
       "      <th>Box</th>\n",
       "      <th>Space</th>\n",
       "      <th>prc</th>\n",
       "    </tr>\n",
       "  </thead>\n",
       "  <tbody>\n",
       "    <tr>\n",
       "      <th>0</th>\n",
       "      <td>Used</td>\n",
       "      <td>iPhone 11</td>\n",
       "      <td>Moratuwa,  Colombo</td>\n",
       "      <td>0</td>\n",
       "      <td>128</td>\n",
       "      <td>137990</td>\n",
       "    </tr>\n",
       "    <tr>\n",
       "      <th>1</th>\n",
       "      <td>Used</td>\n",
       "      <td>iPhone 11</td>\n",
       "      <td>Hettipola,  Kurunegala</td>\n",
       "      <td>0</td>\n",
       "      <td>64</td>\n",
       "      <td>120000</td>\n",
       "    </tr>\n",
       "    <tr>\n",
       "      <th>2</th>\n",
       "      <td>Used</td>\n",
       "      <td>iPhone 11</td>\n",
       "      <td>Panadura,  Kalutara</td>\n",
       "      <td>0</td>\n",
       "      <td>128</td>\n",
       "      <td>127990</td>\n",
       "    </tr>\n",
       "    <tr>\n",
       "      <th>3</th>\n",
       "      <td>Used</td>\n",
       "      <td>iPhone 11</td>\n",
       "      <td>Polonnaruwa City,  Polonnaruwa</td>\n",
       "      <td>0</td>\n",
       "      <td>64</td>\n",
       "      <td>126500</td>\n",
       "    </tr>\n",
       "    <tr>\n",
       "      <th>4</th>\n",
       "      <td>New</td>\n",
       "      <td>iPhone 11</td>\n",
       "      <td>Kiribathgoda,  Gampaha</td>\n",
       "      <td>0</td>\n",
       "      <td>128</td>\n",
       "      <td>162900</td>\n",
       "    </tr>\n",
       "  </tbody>\n",
       "</table>\n",
       "</div>"
      ],
      "text/plain": [
       "  Condition      Model                         Location  Box  Space     prc\n",
       "0      Used  iPhone 11               Moratuwa,  Colombo    0    128  137990\n",
       "1      Used  iPhone 11           Hettipola,  Kurunegala    0     64  120000\n",
       "2      Used  iPhone 11              Panadura,  Kalutara    0    128  127990\n",
       "3      Used  iPhone 11   Polonnaruwa City,  Polonnaruwa    0     64  126500\n",
       "4       New  iPhone 11           Kiribathgoda,  Gampaha    0    128  162900"
      ]
     },
     "execution_count": 78,
     "metadata": {},
     "output_type": "execute_result"
    }
   ],
   "source": [
    "df.head(5)"
   ]
  },
  {
   "cell_type": "code",
   "execution_count": 79,
   "id": "b6dbe260",
   "metadata": {},
   "outputs": [
    {
     "data": {
      "text/plain": [
       "array(['Used', 'iPhone 11', ' Panadura,  Kalutara', 0, 128], dtype=object)"
      ]
     },
     "execution_count": 79,
     "metadata": {},
     "output_type": "execute_result"
    }
   ],
   "source": [
    "gr=df.drop(['prc'],axis='columns')\n",
    "gr=gr.loc[2].to_numpy()\n",
    "gr"
   ]
  },
  {
   "cell_type": "code",
   "execution_count": 94,
   "id": "edee2ca3",
   "metadata": {},
   "outputs": [
    {
     "ename": "NameError",
     "evalue": "name 'saved_classes' is not defined",
     "output_type": "error",
     "traceback": [
      "\u001b[1;31m---------------------------------------------------------------------------\u001b[0m",
      "\u001b[1;31mNameError\u001b[0m                                 Traceback (most recent call last)",
      "\u001b[1;32m~\\AppData\\Local\\Temp\\ipykernel_22024\\1219814984.py\u001b[0m in \u001b[0;36m<module>\u001b[1;34m\u001b[0m\n\u001b[0;32m      1\u001b[0m \u001b[1;32mfrom\u001b[0m \u001b[0msklearn\u001b[0m\u001b[1;33m.\u001b[0m\u001b[0mpreprocessing\u001b[0m \u001b[1;32mimport\u001b[0m \u001b[0mLabelEncoder\u001b[0m\u001b[1;33m\u001b[0m\u001b[1;33m\u001b[0m\u001b[0m\n\u001b[0;32m      2\u001b[0m \u001b[0mle\u001b[0m \u001b[1;33m=\u001b[0m \u001b[0mLabelEncoder\u001b[0m\u001b[1;33m(\u001b[0m\u001b[1;33m)\u001b[0m\u001b[1;33m\u001b[0m\u001b[1;33m\u001b[0m\u001b[0m\n\u001b[1;32m----> 3\u001b[1;33m \u001b[0mle\u001b[0m\u001b[1;33m.\u001b[0m\u001b[0mclasses_\u001b[0m \u001b[1;33m=\u001b[0m \u001b[0msaved_classes\u001b[0m\u001b[1;33m\u001b[0m\u001b[1;33m\u001b[0m\u001b[0m\n\u001b[0m",
      "\u001b[1;31mNameError\u001b[0m: name 'saved_classes' is not defined"
     ]
    }
   ],
   "source": [
    "from sklearn.preprocessing import LabelEncoder\n",
    "le = LabelEncoder()\n",
    "le.classes_ = saved_classes "
   ]
  },
  {
   "cell_type": "code",
   "execution_count": 95,
   "id": "223ddb77",
   "metadata": {},
   "outputs": [
    {
     "data": {
      "text/html": [
       "<div>\n",
       "<style scoped>\n",
       "    .dataframe tbody tr th:only-of-type {\n",
       "        vertical-align: middle;\n",
       "    }\n",
       "\n",
       "    .dataframe tbody tr th {\n",
       "        vertical-align: top;\n",
       "    }\n",
       "\n",
       "    .dataframe thead th {\n",
       "        text-align: right;\n",
       "    }\n",
       "</style>\n",
       "<table border=\"1\" class=\"dataframe\">\n",
       "  <thead>\n",
       "    <tr style=\"text-align: right;\">\n",
       "      <th></th>\n",
       "      <th>Condition</th>\n",
       "      <th>Model</th>\n",
       "      <th>Location</th>\n",
       "      <th>Box</th>\n",
       "      <th>Space</th>\n",
       "      <th>prc</th>\n",
       "    </tr>\n",
       "  </thead>\n",
       "  <tbody>\n",
       "    <tr>\n",
       "      <th>0</th>\n",
       "      <td>1</td>\n",
       "      <td>0</td>\n",
       "      <td>144</td>\n",
       "      <td>0</td>\n",
       "      <td>128</td>\n",
       "      <td>137990</td>\n",
       "    </tr>\n",
       "    <tr>\n",
       "      <th>1</th>\n",
       "      <td>1</td>\n",
       "      <td>0</td>\n",
       "      <td>85</td>\n",
       "      <td>0</td>\n",
       "      <td>64</td>\n",
       "      <td>120000</td>\n",
       "    </tr>\n",
       "    <tr>\n",
       "      <th>2</th>\n",
       "      <td>1</td>\n",
       "      <td>0</td>\n",
       "      <td>161</td>\n",
       "      <td>0</td>\n",
       "      <td>128</td>\n",
       "      <td>127990</td>\n",
       "    </tr>\n",
       "    <tr>\n",
       "      <th>3</th>\n",
       "      <td>1</td>\n",
       "      <td>0</td>\n",
       "      <td>170</td>\n",
       "      <td>0</td>\n",
       "      <td>64</td>\n",
       "      <td>126500</td>\n",
       "    </tr>\n",
       "    <tr>\n",
       "      <th>4</th>\n",
       "      <td>0</td>\n",
       "      <td>0</td>\n",
       "      <td>115</td>\n",
       "      <td>0</td>\n",
       "      <td>128</td>\n",
       "      <td>162900</td>\n",
       "    </tr>\n",
       "    <tr>\n",
       "      <th>...</th>\n",
       "      <td>...</td>\n",
       "      <td>...</td>\n",
       "      <td>...</td>\n",
       "      <td>...</td>\n",
       "      <td>...</td>\n",
       "      <td>...</td>\n",
       "    </tr>\n",
       "    <tr>\n",
       "      <th>20635</th>\n",
       "      <td>1</td>\n",
       "      <td>10</td>\n",
       "      <td>103</td>\n",
       "      <td>0</td>\n",
       "      <td>256</td>\n",
       "      <td>185000</td>\n",
       "    </tr>\n",
       "    <tr>\n",
       "      <th>20636</th>\n",
       "      <td>1</td>\n",
       "      <td>10</td>\n",
       "      <td>22</td>\n",
       "      <td>0</td>\n",
       "      <td>128</td>\n",
       "      <td>187500</td>\n",
       "    </tr>\n",
       "    <tr>\n",
       "      <th>20637</th>\n",
       "      <td>1</td>\n",
       "      <td>10</td>\n",
       "      <td>186</td>\n",
       "      <td>0</td>\n",
       "      <td>128</td>\n",
       "      <td>187000</td>\n",
       "    </tr>\n",
       "    <tr>\n",
       "      <th>20638</th>\n",
       "      <td>0</td>\n",
       "      <td>10</td>\n",
       "      <td>6</td>\n",
       "      <td>0</td>\n",
       "      <td>128</td>\n",
       "      <td>210000</td>\n",
       "    </tr>\n",
       "    <tr>\n",
       "      <th>20641</th>\n",
       "      <td>0</td>\n",
       "      <td>10</td>\n",
       "      <td>40</td>\n",
       "      <td>0</td>\n",
       "      <td>128</td>\n",
       "      <td>205000</td>\n",
       "    </tr>\n",
       "  </tbody>\n",
       "</table>\n",
       "<p>14148 rows × 6 columns</p>\n",
       "</div>"
      ],
      "text/plain": [
       "       Condition  Model  Location  Box  Space     prc\n",
       "0              1      0       144    0    128  137990\n",
       "1              1      0        85    0     64  120000\n",
       "2              1      0       161    0    128  127990\n",
       "3              1      0       170    0     64  126500\n",
       "4              0      0       115    0    128  162900\n",
       "...          ...    ...       ...  ...    ...     ...\n",
       "20635          1     10       103    0    256  185000\n",
       "20636          1     10        22    0    128  187500\n",
       "20637          1     10       186    0    128  187000\n",
       "20638          0     10         6    0    128  210000\n",
       "20641          0     10        40    0    128  205000\n",
       "\n",
       "[14148 rows x 6 columns]"
      ]
     },
     "execution_count": 95,
     "metadata": {},
     "output_type": "execute_result"
    }
   ],
   "source": [
    "dlfe=df\n",
    "dlfe.Location=le.fit_transform(dlfe.Location)\n",
    "dlfe.Condition=le.fit_transform(dlfe.Condition)\n",
    "dlfe.Model=le.fit_transform(dlfe.Model)\n",
    "dlfe.Box=le.fit_transform(dlfe.Box)\n",
    "dlfe"
   ]
  },
  {
   "cell_type": "code",
   "execution_count": 96,
   "id": "83867600",
   "metadata": {},
   "outputs": [],
   "source": [
    "pr=dlfe.drop(['prc'],axis='columns')"
   ]
  },
  {
   "cell_type": "code",
   "execution_count": 97,
   "id": "95b026aa",
   "metadata": {},
   "outputs": [],
   "source": [
    "from sklearn.model_selection import train_test_split\n",
    "x_train, x_test, y_train, y_test = train_test_split(pr,dlfe.prc,test_size=0.2,random_state=8) "
   ]
  },
  {
   "cell_type": "code",
   "execution_count": 98,
   "id": "2542a8df",
   "metadata": {},
   "outputs": [
    {
     "data": {
      "text/plain": [
       "LinearRegression()"
      ]
     },
     "execution_count": 98,
     "metadata": {},
     "output_type": "execute_result"
    }
   ],
   "source": [
    "reg.fit(x_train, y_train)"
   ]
  },
  {
   "cell_type": "code",
   "execution_count": 99,
   "id": "f6cd55bf",
   "metadata": {},
   "outputs": [
    {
     "data": {
      "text/plain": [
       "0.7168476000771626"
      ]
     },
     "execution_count": 99,
     "metadata": {},
     "output_type": "execute_result"
    }
   ],
   "source": [
    "reg.score(x_test,y_test)"
   ]
  },
  {
   "cell_type": "code",
   "execution_count": 100,
   "id": "42e18d0b",
   "metadata": {},
   "outputs": [],
   "source": [
    "from sklearn.preprocessing import PolynomialFeatures\n",
    "poly = PolynomialFeatures(degree=4)\n",
    "x_train = poly.fit_transform(x_train)\n",
    "x_test = poly.fit_transform(x_test)"
   ]
  },
  {
   "cell_type": "code",
   "execution_count": 101,
   "id": "90b8432e",
   "metadata": {},
   "outputs": [
    {
     "data": {
      "text/plain": [
       "LinearRegression()"
      ]
     },
     "execution_count": 101,
     "metadata": {},
     "output_type": "execute_result"
    }
   ],
   "source": [
    "reg.fit(x_train, y_train)"
   ]
  },
  {
   "cell_type": "code",
   "execution_count": 102,
   "id": "842a0564",
   "metadata": {
    "scrolled": true
   },
   "outputs": [
    {
     "data": {
      "text/plain": [
       "-1.6974588696787514"
      ]
     },
     "execution_count": 102,
     "metadata": {},
     "output_type": "execute_result"
    }
   ],
   "source": [
    "reg.score(x_test,y_test)"
   ]
  },
  {
   "cell_type": "code",
   "execution_count": 91,
   "id": "fe061826",
   "metadata": {
    "scrolled": true
   },
   "outputs": [
    {
     "data": {
      "text/plain": [
       "(2830, 5)"
      ]
     },
     "execution_count": 91,
     "metadata": {},
     "output_type": "execute_result"
    }
   ],
   "source": [
    "x_test.shape\n"
   ]
  },
  {
   "cell_type": "code",
   "execution_count": 103,
   "id": "a8667363",
   "metadata": {},
   "outputs": [
    {
     "ename": "AttributeError",
     "evalue": "'numpy.ndarray' object has no attribute 'Location'",
     "output_type": "error",
     "traceback": [
      "\u001b[1;31m---------------------------------------------------------------------------\u001b[0m",
      "\u001b[1;31mAttributeError\u001b[0m                            Traceback (most recent call last)",
      "\u001b[1;32m~\\AppData\\Local\\Temp\\ipykernel_22024\\603215891.py\u001b[0m in \u001b[0;36m<module>\u001b[1;34m\u001b[0m\n\u001b[1;32m----> 1\u001b[1;33m \u001b[0mgr\u001b[0m\u001b[1;33m.\u001b[0m\u001b[0mLocation\u001b[0m\u001b[1;33m=\u001b[0m\u001b[0mle\u001b[0m\u001b[1;33m.\u001b[0m\u001b[0mfit_transform\u001b[0m\u001b[1;33m(\u001b[0m\u001b[0mgr\u001b[0m\u001b[1;33m.\u001b[0m\u001b[0mLocation\u001b[0m\u001b[1;33m)\u001b[0m\u001b[1;33m\u001b[0m\u001b[1;33m\u001b[0m\u001b[0m\n\u001b[0m\u001b[0;32m      2\u001b[0m \u001b[0mgr\u001b[0m\u001b[1;33m.\u001b[0m\u001b[0mCondition\u001b[0m\u001b[1;33m=\u001b[0m\u001b[0mle\u001b[0m\u001b[1;33m.\u001b[0m\u001b[0mfit_transform\u001b[0m\u001b[1;33m(\u001b[0m\u001b[0mgr\u001b[0m\u001b[1;33m.\u001b[0m\u001b[0mCondition\u001b[0m\u001b[1;33m)\u001b[0m\u001b[1;33m\u001b[0m\u001b[1;33m\u001b[0m\u001b[0m\n\u001b[0;32m      3\u001b[0m \u001b[0mgr\u001b[0m\u001b[1;33m.\u001b[0m\u001b[0mModel\u001b[0m\u001b[1;33m=\u001b[0m\u001b[0mle\u001b[0m\u001b[1;33m.\u001b[0m\u001b[0mfit_transform\u001b[0m\u001b[1;33m(\u001b[0m\u001b[0mgr\u001b[0m\u001b[1;33m.\u001b[0m\u001b[0mModel\u001b[0m\u001b[1;33m)\u001b[0m\u001b[1;33m\u001b[0m\u001b[1;33m\u001b[0m\u001b[0m\n\u001b[0;32m      4\u001b[0m \u001b[0mgr\u001b[0m\u001b[1;33m.\u001b[0m\u001b[0mBox\u001b[0m\u001b[1;33m=\u001b[0m\u001b[0mle\u001b[0m\u001b[1;33m.\u001b[0m\u001b[0mfit_transform\u001b[0m\u001b[1;33m(\u001b[0m\u001b[0mgr\u001b[0m\u001b[1;33m.\u001b[0m\u001b[0mBox\u001b[0m\u001b[1;33m)\u001b[0m\u001b[1;33m\u001b[0m\u001b[1;33m\u001b[0m\u001b[0m\n",
      "\u001b[1;31mAttributeError\u001b[0m: 'numpy.ndarray' object has no attribute 'Location'"
     ]
    }
   ],
   "source": [
    "gr.Location=le.fit_transform(gr.Location)\n",
    "gr.Condition=le.fit_transform(gr.Condition)\n",
    "gr.Model=le.fit_transform(gr.Model)\n",
    "gr.Box=le.fit_transform(gr.Box)"
   ]
  },
  {
   "cell_type": "code",
   "execution_count": 104,
   "id": "418617e0",
   "metadata": {},
   "outputs": [
    {
     "ename": "AttributeError",
     "evalue": "'numpy.ndarray' object has no attribute 'loc'",
     "output_type": "error",
     "traceback": [
      "\u001b[1;31m---------------------------------------------------------------------------\u001b[0m",
      "\u001b[1;31mAttributeError\u001b[0m                            Traceback (most recent call last)",
      "\u001b[1;32m~\\AppData\\Local\\Temp\\ipykernel_22024\\392367850.py\u001b[0m in \u001b[0;36m<module>\u001b[1;34m\u001b[0m\n\u001b[1;32m----> 1\u001b[1;33m \u001b[0mreg\u001b[0m\u001b[1;33m.\u001b[0m\u001b[0mpredict\u001b[0m\u001b[1;33m(\u001b[0m\u001b[1;33m[\u001b[0m\u001b[0mgr\u001b[0m\u001b[1;33m.\u001b[0m\u001b[0mloc\u001b[0m\u001b[1;33m[\u001b[0m\u001b[1;36m2\u001b[0m\u001b[1;33m]\u001b[0m\u001b[1;33m]\u001b[0m\u001b[1;33m)\u001b[0m\u001b[1;33m\u001b[0m\u001b[1;33m\u001b[0m\u001b[0m\n\u001b[0m",
      "\u001b[1;31mAttributeError\u001b[0m: 'numpy.ndarray' object has no attribute 'loc'"
     ]
    }
   ],
   "source": [
    "reg.predict([gr.loc[2]])"
   ]
  },
  {
   "cell_type": "code",
   "execution_count": 24,
   "id": "8c3ac010",
   "metadata": {
    "scrolled": true
   },
   "outputs": [
    {
     "name": "stdout",
     "output_type": "stream",
     "text": [
      "Predicted       3000    4000    4500    5000    5500    6000    6500    \\\n",
      "Actual                                                                   \n",
      "-391172.715021       0       0       0       0       0       0       0   \n",
      "-328846.108233       0       0       0       0       0       0       0   \n",
      " 6407.279056         0       0       0       0       0       0       0   \n",
      " 6939.362726         0       0       0       0       0       0       0   \n",
      " 6955.904738         0       0       0       0       0       0       0   \n",
      " 6996.109737         0       0       0       0       0       0       0   \n",
      " 6996.937452         0       0       0       0       0       0       0   \n",
      " 7070.291982         0       0       0       0       0       0       0   \n",
      " 7253.348279         0       0       0       0       0       0       0   \n",
      " 7339.021937         0       0       0       0       0       0       0   \n",
      "\n",
      "Predicted       7000    7500    7950    ...  424990  425000  429000  430000  \\\n",
      "Actual                                  ...                                   \n",
      "-391172.715021       0       0       0  ...       0       0       0       0   \n",
      "-328846.108233       0       0       0  ...       0       0       0       0   \n",
      " 6407.279056         0       0       0  ...       0       0       0       0   \n",
      " 6939.362726         0       0       0  ...       0       0       0       0   \n",
      " 6955.904738         0       0       0  ...       0       0       0       0   \n",
      " 6996.109737         0       0       0  ...       0       0       0       0   \n",
      " 6996.937452         0       0       0  ...       0       0       0       0   \n",
      " 7070.291982         0       0       0  ...       0       0       0       0   \n",
      " 7253.348279         1       0       0  ...       0       0       0       0   \n",
      " 7339.021937         0       0       0  ...       0       0       0       0   \n",
      "\n",
      "Predicted       434900  439990  443000  445000  449900  450000  \n",
      "Actual                                                          \n",
      "-391172.715021       0       0       0       0       0       0  \n",
      "-328846.108233       0       0       0       0       0       0  \n",
      " 6407.279056         0       0       0       0       0       0  \n",
      " 6939.362726         0       0       0       0       0       0  \n",
      " 6955.904738         0       0       0       0       0       0  \n",
      " 6996.109737         0       0       0       0       0       0  \n",
      " 6996.937452         0       0       0       0       0       0  \n",
      " 7070.291982         0       0       0       0       0       0  \n",
      " 7253.348279         0       0       0       0       0       0  \n",
      " 7339.021937         0       0       0       0       0       0  \n",
      "\n",
      "[10 rows x 1246 columns]\n"
     ]
    }
   ],
   "source": [
    "confusion_matrix = pd.crosstab(reg.predict(x_test), y_test, rownames=['Actual'], colnames=['Predicted'])\n",
    "print(confusion_matrix.head(10))"
   ]
  },
  {
   "cell_type": "code",
   "execution_count": 34,
   "id": "39499c04",
   "metadata": {},
   "outputs": [
    {
     "data": {
      "text/plain": [
       "Text(0.5, 1.0, 'Scatter Plot Example')"
      ]
     },
     "execution_count": 34,
     "metadata": {},
     "output_type": "execute_result"
    },
    {
     "data": {
      "image/png": "[encoded data removed]",
      "text/plain": [
       "<Figure size 640x480 with 1 Axes>"
      ]
     },
     "metadata": {},
     "output_type": "display_data"
    }
   ],
   "source": [
    "plt.scatter(reg.predict(x_test), y_test, label='Data Points', color='blue', marker='o')\n",
    "plt.xlabel('X-axis Label')\n",
    "plt.ylabel('Y-axis Label')\n",
    "plt.title('Scatter Plot Example')"
   ]
  },
  {
   "cell_type": "markdown",
   "id": "1b26cb81",
   "metadata": {},
   "source": [
    "# Others"
   ]
  },
  {
   "cell_type": "code",
   "execution_count": 105,
   "id": "93fcf220",
   "metadata": {},
   "outputs": [
    {
     "name": "stderr",
     "output_type": "stream",
     "text": [
      "C:\\Users\\nimet\\anaconda3\\lib\\site-packages\\sklearn\\model_selection\\_split.py:676: UserWarning: The least populated class in y has only 1 members, which is less than n_splits=10.\n",
      "  warnings.warn(\n"
     ]
    },
    {
     "ename": "KeyError",
     "evalue": "\"None of [Int64Index([    4,     6,     7,     8,    10,    21,    26,    29,    30,\\n               37,\\n            ...\\n            14138, 14139, 14140, 14141, 14142, 14143, 14144, 14145, 14146,\\n            14147],\\n           dtype='int64', length=12733)] are in the [columns]\"",
     "output_type": "error",
     "traceback": [
      "\u001b[1;31m---------------------------------------------------------------------------\u001b[0m",
      "\u001b[1;31mKeyError\u001b[0m                                  Traceback (most recent call last)",
      "\u001b[1;32m~\\AppData\\Local\\Temp\\ipykernel_22024\\2884418543.py\u001b[0m in \u001b[0;36m<module>\u001b[1;34m\u001b[0m\n\u001b[0;32m      1\u001b[0m \u001b[1;32mfor\u001b[0m \u001b[0mtrain_index\u001b[0m\u001b[1;33m,\u001b[0m \u001b[0mtest_index\u001b[0m \u001b[1;32min\u001b[0m \u001b[0mfolds\u001b[0m\u001b[1;33m.\u001b[0m\u001b[0msplit\u001b[0m\u001b[1;33m(\u001b[0m\u001b[0mpr\u001b[0m\u001b[1;33m,\u001b[0m\u001b[0mdlfe\u001b[0m\u001b[1;33m.\u001b[0m\u001b[0mprc\u001b[0m\u001b[1;33m)\u001b[0m\u001b[1;33m:\u001b[0m\u001b[1;33m\u001b[0m\u001b[1;33m\u001b[0m\u001b[0m\n\u001b[1;32m----> 2\u001b[1;33m     \u001b[0mX_train\u001b[0m\u001b[1;33m,\u001b[0m \u001b[0mX_test\u001b[0m\u001b[1;33m,\u001b[0m \u001b[0my_train\u001b[0m\u001b[1;33m,\u001b[0m \u001b[0my_test\u001b[0m \u001b[1;33m=\u001b[0m \u001b[0mpr\u001b[0m\u001b[1;33m[\u001b[0m\u001b[0mtrain_index\u001b[0m\u001b[1;33m]\u001b[0m\u001b[1;33m,\u001b[0m \u001b[0mpr\u001b[0m\u001b[1;33m[\u001b[0m\u001b[0mtest_index\u001b[0m\u001b[1;33m]\u001b[0m\u001b[1;33m,\u001b[0m \u001b[0mdlfe\u001b[0m\u001b[1;33m.\u001b[0m\u001b[0mprc\u001b[0m\u001b[1;33m[\u001b[0m\u001b[0mtrain_index\u001b[0m\u001b[1;33m]\u001b[0m\u001b[1;33m,\u001b[0m \u001b[0mdlfe\u001b[0m\u001b[1;33m.\u001b[0m\u001b[0mprc\u001b[0m\u001b[1;33m[\u001b[0m\u001b[0mtest_index\u001b[0m\u001b[1;33m]\u001b[0m\u001b[1;33m\u001b[0m\u001b[1;33m\u001b[0m\u001b[0m\n\u001b[0m",
      "\u001b[1;32m~\\anaconda3\\lib\\site-packages\\pandas\\core\\frame.py\u001b[0m in \u001b[0;36m__getitem__\u001b[1;34m(self, key)\u001b[0m\n\u001b[0;32m   3509\u001b[0m             \u001b[1;32mif\u001b[0m \u001b[0mis_iterator\u001b[0m\u001b[1;33m(\u001b[0m\u001b[0mkey\u001b[0m\u001b[1;33m)\u001b[0m\u001b[1;33m:\u001b[0m\u001b[1;33m\u001b[0m\u001b[1;33m\u001b[0m\u001b[0m\n\u001b[0;32m   3510\u001b[0m                 \u001b[0mkey\u001b[0m \u001b[1;33m=\u001b[0m \u001b[0mlist\u001b[0m\u001b[1;33m(\u001b[0m\u001b[0mkey\u001b[0m\u001b[1;33m)\u001b[0m\u001b[1;33m\u001b[0m\u001b[1;33m\u001b[0m\u001b[0m\n\u001b[1;32m-> 3511\u001b[1;33m             \u001b[0mindexer\u001b[0m \u001b[1;33m=\u001b[0m \u001b[0mself\u001b[0m\u001b[1;33m.\u001b[0m\u001b[0mcolumns\u001b[0m\u001b[1;33m.\u001b[0m\u001b[0m_get_indexer_strict\u001b[0m\u001b[1;33m(\u001b[0m\u001b[0mkey\u001b[0m\u001b[1;33m,\u001b[0m \u001b[1;34m\"columns\"\u001b[0m\u001b[1;33m)\u001b[0m\u001b[1;33m[\u001b[0m\u001b[1;36m1\u001b[0m\u001b[1;33m]\u001b[0m\u001b[1;33m\u001b[0m\u001b[1;33m\u001b[0m\u001b[0m\n\u001b[0m\u001b[0;32m   3512\u001b[0m \u001b[1;33m\u001b[0m\u001b[0m\n\u001b[0;32m   3513\u001b[0m         \u001b[1;31m# take() does not accept boolean indexers\u001b[0m\u001b[1;33m\u001b[0m\u001b[1;33m\u001b[0m\u001b[0m\n",
      "\u001b[1;32m~\\anaconda3\\lib\\site-packages\\pandas\\core\\indexes\\base.py\u001b[0m in \u001b[0;36m_get_indexer_strict\u001b[1;34m(self, key, axis_name)\u001b[0m\n\u001b[0;32m   5794\u001b[0m             \u001b[0mkeyarr\u001b[0m\u001b[1;33m,\u001b[0m \u001b[0mindexer\u001b[0m\u001b[1;33m,\u001b[0m \u001b[0mnew_indexer\u001b[0m \u001b[1;33m=\u001b[0m \u001b[0mself\u001b[0m\u001b[1;33m.\u001b[0m\u001b[0m_reindex_non_unique\u001b[0m\u001b[1;33m(\u001b[0m\u001b[0mkeyarr\u001b[0m\u001b[1;33m)\u001b[0m\u001b[1;33m\u001b[0m\u001b[1;33m\u001b[0m\u001b[0m\n\u001b[0;32m   5795\u001b[0m \u001b[1;33m\u001b[0m\u001b[0m\n\u001b[1;32m-> 5796\u001b[1;33m         \u001b[0mself\u001b[0m\u001b[1;33m.\u001b[0m\u001b[0m_raise_if_missing\u001b[0m\u001b[1;33m(\u001b[0m\u001b[0mkeyarr\u001b[0m\u001b[1;33m,\u001b[0m \u001b[0mindexer\u001b[0m\u001b[1;33m,\u001b[0m \u001b[0maxis_name\u001b[0m\u001b[1;33m)\u001b[0m\u001b[1;33m\u001b[0m\u001b[1;33m\u001b[0m\u001b[0m\n\u001b[0m\u001b[0;32m   5797\u001b[0m \u001b[1;33m\u001b[0m\u001b[0m\n\u001b[0;32m   5798\u001b[0m         \u001b[0mkeyarr\u001b[0m \u001b[1;33m=\u001b[0m \u001b[0mself\u001b[0m\u001b[1;33m.\u001b[0m\u001b[0mtake\u001b[0m\u001b[1;33m(\u001b[0m\u001b[0mindexer\u001b[0m\u001b[1;33m)\u001b[0m\u001b[1;33m\u001b[0m\u001b[1;33m\u001b[0m\u001b[0m\n",
      "\u001b[1;32m~\\anaconda3\\lib\\site-packages\\pandas\\core\\indexes\\base.py\u001b[0m in \u001b[0;36m_raise_if_missing\u001b[1;34m(self, key, indexer, axis_name)\u001b[0m\n\u001b[0;32m   5854\u001b[0m                 \u001b[1;32mif\u001b[0m \u001b[0muse_interval_msg\u001b[0m\u001b[1;33m:\u001b[0m\u001b[1;33m\u001b[0m\u001b[1;33m\u001b[0m\u001b[0m\n\u001b[0;32m   5855\u001b[0m                     \u001b[0mkey\u001b[0m \u001b[1;33m=\u001b[0m \u001b[0mlist\u001b[0m\u001b[1;33m(\u001b[0m\u001b[0mkey\u001b[0m\u001b[1;33m)\u001b[0m\u001b[1;33m\u001b[0m\u001b[1;33m\u001b[0m\u001b[0m\n\u001b[1;32m-> 5856\u001b[1;33m                 \u001b[1;32mraise\u001b[0m \u001b[0mKeyError\u001b[0m\u001b[1;33m(\u001b[0m\u001b[1;34mf\"None of [{key}] are in the [{axis_name}]\"\u001b[0m\u001b[1;33m)\u001b[0m\u001b[1;33m\u001b[0m\u001b[1;33m\u001b[0m\u001b[0m\n\u001b[0m\u001b[0;32m   5857\u001b[0m \u001b[1;33m\u001b[0m\u001b[0m\n\u001b[0;32m   5858\u001b[0m             \u001b[0mnot_found\u001b[0m \u001b[1;33m=\u001b[0m \u001b[0mlist\u001b[0m\u001b[1;33m(\u001b[0m\u001b[0mensure_index\u001b[0m\u001b[1;33m(\u001b[0m\u001b[0mkey\u001b[0m\u001b[1;33m)\u001b[0m\u001b[1;33m[\u001b[0m\u001b[0mmissing_mask\u001b[0m\u001b[1;33m.\u001b[0m\u001b[0mnonzero\u001b[0m\u001b[1;33m(\u001b[0m\u001b[1;33m)\u001b[0m\u001b[1;33m[\u001b[0m\u001b[1;36m0\u001b[0m\u001b[1;33m]\u001b[0m\u001b[1;33m]\u001b[0m\u001b[1;33m.\u001b[0m\u001b[0munique\u001b[0m\u001b[1;33m(\u001b[0m\u001b[1;33m)\u001b[0m\u001b[1;33m)\u001b[0m\u001b[1;33m\u001b[0m\u001b[1;33m\u001b[0m\u001b[0m\n",
      "\u001b[1;31mKeyError\u001b[0m: \"None of [Int64Index([    4,     6,     7,     8,    10,    21,    26,    29,    30,\\n               37,\\n            ...\\n            14138, 14139, 14140, 14141, 14142, 14143, 14144, 14145, 14146,\\n            14147],\\n           dtype='int64', length=12733)] are in the [columns]\""
     ]
    }
   ],
   "source": [
    "for train_index, test_index in folds.split(pr,dlfe.prc):\n",
    "    X_train, X_test, y_train, y_test = pr[train_index], pr[test_index], dlfe.prc[train_index], dlfe.prc[test_index]"
   ]
  },
  {
   "cell_type": "code",
   "execution_count": 106,
   "id": "d545c7d0",
   "metadata": {},
   "outputs": [
    {
     "data": {
      "text/plain": [
       "RandomForestClassifier(n_estimators=20)"
      ]
     },
     "execution_count": 106,
     "metadata": {},
     "output_type": "execute_result"
    }
   ],
   "source": [
    "rfc.fit(x_train,y_train)"
   ]
  },
  {
   "cell_type": "code",
   "execution_count": 107,
   "id": "ae3c8be8",
   "metadata": {
    "scrolled": true
   },
   "outputs": [
    {
     "data": {
      "text/plain": [
       "0.01342756183745583"
      ]
     },
     "execution_count": 107,
     "metadata": {},
     "output_type": "execute_result"
    }
   ],
   "source": [
    "rfc.score(x_test,y_test)"
   ]
  },
  {
   "cell_type": "code",
   "execution_count": 108,
   "id": "68555e0d",
   "metadata": {},
   "outputs": [
    {
     "name": "stderr",
     "output_type": "stream",
     "text": [
      "C:\\Users\\nimet\\anaconda3\\lib\\site-packages\\sklearn\\linear_model\\_logistic.py:814: ConvergenceWarning: lbfgs failed to converge (status=1):\n",
      "STOP: TOTAL NO. of ITERATIONS REACHED LIMIT.\n",
      "\n",
      "Increase the number of iterations (max_iter) or scale the data as shown in:\n",
      "    https://scikit-learn.org/stable/modules/preprocessing.html\n",
      "Please also refer to the documentation for alternative solver options:\n",
      "    https://scikit-learn.org/stable/modules/linear_model.html#logistic-regression\n",
      "  n_iter_i = _check_optimize_result(\n"
     ]
    },
    {
     "data": {
      "text/plain": [
       "0.011307420494699646"
      ]
     },
     "execution_count": 108,
     "metadata": {},
     "output_type": "execute_result"
    }
   ],
   "source": [
    "model.fit(x_train,y_train)\n",
    "model.score(x_test,y_test)"
   ]
  },
  {
   "cell_type": "code",
   "execution_count": 109,
   "id": "392006c0",
   "metadata": {},
   "outputs": [
    {
     "data": {
      "text/plain": [
       "0.012720848056537103"
      ]
     },
     "execution_count": 109,
     "metadata": {},
     "output_type": "execute_result"
    }
   ],
   "source": [
    "dst.fit(x_train,y_train)\n",
    "dst.score(x_test,y_test)"
   ]
  },
  {
   "cell_type": "code",
   "execution_count": 110,
   "id": "d47c4d2c",
   "metadata": {},
   "outputs": [
    {
     "data": {
      "text/plain": [
       "-2.1447271063021058e+24"
      ]
     },
     "execution_count": 110,
     "metadata": {},
     "output_type": "execute_result"
    }
   ],
   "source": [
    "km.fit(x_train,y_train)\n",
    "km.score(x_test,y_test)"
   ]
  },
  {
   "cell_type": "code",
   "execution_count": 22,
   "id": "c299b365",
   "metadata": {},
   "outputs": [
    {
     "data": {
      "text/plain": [
       "0.7159514863436207"
      ]
     },
     "execution_count": 22,
     "metadata": {},
     "output_type": "execute_result"
    }
   ],
   "source": [
    "ridge.fit(x_train,y_train)\n",
    "ridge.score(x_test,y_test)"
   ]
  },
  {
   "cell_type": "code",
   "execution_count": 21,
   "id": "81fe6225",
   "metadata": {},
   "outputs": [
    {
     "data": {
      "text/plain": [
       "0.7159498554295022"
      ]
     },
     "execution_count": 21,
     "metadata": {},
     "output_type": "execute_result"
    }
   ],
   "source": [
    "lasso.fit(x_train,y_train)\n",
    "lasso.score(x_test,y_test)"
   ]
  },
  {
   "cell_type": "code",
   "execution_count": null,
   "id": "70193fd9",
   "metadata": {},
   "outputs": [],
   "source": [
    "gp.fit(x_train,y_train)\n",
    "gp.score(x_test,y_test)"
   ]
  },
  {
   "cell_type": "code",
   "execution_count": 60,
   "id": "f25ab116",
   "metadata": {},
   "outputs": [
    {
     "name": "stdout",
     "output_type": "stream",
     "text": [
      "  Condition     Model  Box  Space\n",
      "0       New  iPhone 7    1     64\n",
      "-1.7744627365347494\n",
      "21217.046236519876 33500\n"
     ]
    }
   ],
   "source": [
    "import pandas as pd\n",
    "import numpy as np\n",
    "from sklearn.preprocessing import LabelEncoder\n",
    "from sklearn.linear_model import LinearRegression\n",
    "import joblib  # For saving and loading objects\n",
    "df=pd.read_csv(\"C:\\\\Users\\\\nimet\\\\predictit\\\\apple_phone_dataset_update_new_visualized.csv\")\n",
    "df=df.drop_duplicates()\n",
    "model = LinearRegression()\n",
    "# Training data with multiple categorical variables\n",
    "# data = {'Category1': ['A', 'B', 'C', 'A', 'B'],\n",
    "#         'Category2': ['X', 'Y', 'Z', 'X', 'Y'],\n",
    "#         'Numeric': [10, 20, 15, 30, 25]}\n",
    "# new_data =df.loc[3]\n",
    "# df = pd.DataFrame(data)\n",
    "\n",
    "dfprc=df['prc']\n",
    "df=df.drop(['prc','Location'],axis='columns')\n",
    "# new_data =df.loc[2]\n",
    "# new_data = pd.DataFrame([df.loc[1190]])\n",
    "new_data=pd.DataFrame.from_dict({\n",
    "    \"Condition\": [\"New\"],\n",
    "    \"Model\": [\"iPhone 7\"],\n",
    "    \"Box\": [1],\n",
    "    \"Space\": [64],\n",
    "    \n",
    "    \n",
    "    \n",
    "})\n",
    "print(new_data)\n",
    "# Initialize dictionaries to store label encoders for each variable\n",
    "label_encoders = {}\n",
    "\n",
    "# Train and save label encoders for each categorical variable\n",
    "for column in df.select_dtypes(include=['object']):\n",
    "    label_encoder = LabelEncoder()\n",
    "    df[column] = label_encoder.fit_transform(df[column])\n",
    "    label_encoders[column] = label_encoder\n",
    "\n",
    "# Save label encoders to files\n",
    "for variable, encoder in label_encoders.items():\n",
    "    joblib.dump(encoder, f\"{variable}_label_encoder.pkl\")\n",
    "\n",
    "from sklearn.model_selection import train_test_split,cross_val_score\n",
    "x_train, x_test, y_train, y_test = train_test_split(df,dfprc,test_size=0.2,random_state=8)     \n",
    "\n",
    "from sklearn.preprocessing import PolynomialFeatures\n",
    "poly = PolynomialFeatures(degree=4)\n",
    "x_train = poly.fit_transform(x_train)\n",
    "x_test = poly.fit_transform(x_test)\n",
    "\n",
    "\n",
    "\n",
    "\n",
    "\n",
    "\n",
    "\n",
    "model = LinearRegression()\n",
    "model.fit(x_train, y_train) \n",
    "print(model.score(x_test,y_test))\n",
    "# Replace 'Target' with your actual target column\n",
    "# model.predict(x_test)\n",
    "# Now, when you want to make predictions on new data:\n",
    "# Load the label encoders\n",
    "loaded_label_encoders = {}\n",
    "for variable in label_encoders:\n",
    "    loaded_label_encoders[variable] = joblib.load(f\"{variable}_label_encoder.pkl\")\n",
    "\n",
    "# Prepare new data for prediction (use the same column names as in training)\n",
    " \n",
    "\n",
    "# Apply the corresponding label encoder to each categorical variable\n",
    "for column in new_data.select_dtypes(include=['object']):\n",
    "    new_data[column] = loaded_label_encoders[column].transform(new_data[column])\n",
    "\n",
    "# Make predictions with your trained linear regression model on the new data\n",
    "new_data = poly.fit_transform(new_data)\n",
    "predictions = model.predict(new_data)\n",
    "\n",
    "print(predictions[0],dfprc.loc[1190])\n",
    "reshaped_array = np.array(predictions[0]).reshape(-1, 1)\n",
    "# print(model.score(reshaped_array,dfprc.loc[1190]))"
   ]
  },
  {
   "cell_type": "code",
   "execution_count": 17,
   "id": "3a1459fd",
   "metadata": {},
   "outputs": [
    {
     "name": "stdout",
     "output_type": "stream",
     "text": [
      "  Condition      Model                 Location  Box  Space\n",
      "0       New  iPhone XS  Kalutara City, Kalutara    0    512\n"
     ]
    }
   ],
   "source": [
    "import pandas as pd\n",
    "\n",
    "# JSON data as a dictionary (replace this with your JSON data)\n",
    "# json_data = \n",
    "\n",
    "# Convert JSON data to a DataFrame\n",
    "df = pd.DataFrame.from_dict({\n",
    "    \"Condition\": [\"New\"],\n",
    "    \"Model\": [\"iPhone XS\"],\n",
    "    \"Location\": [\"Kalutara City, Kalutara\"],\n",
    "    \"Box\": [0],\n",
    "    \"Space\": [512]\n",
    "})\n",
    "\n",
    "# Display the DataFrame\n",
    "print(df)\n",
    "\n",
    "\n",
    "\n",
    "\n",
    "\n",
    "\n"
   ]
  },
  {
   "cell_type": "code",
   "execution_count": 2,
   "id": "c959d815",
   "metadata": {},
   "outputs": [],
   "source": [
    "import pickle\n",
    "pickle.dump(model, open('predict_model_without_location.pkl', 'wb'))"
   ]
  },
  {
   "cell_type": "code",
   "execution_count": 3,
   "id": "1192a084",
   "metadata": {
    "scrolled": true
   },
   "outputs": [
    {
     "data": {
      "text/plain": [
       "147000"
      ]
     },
     "execution_count": 3,
     "metadata": {},
     "output_type": "execute_result"
    }
   ],
   "source": [
    "dfprc.loc[19] "
   ]
  },
  {
   "cell_type": "code",
   "execution_count": 4,
   "id": "65c7d453",
   "metadata": {},
   "outputs": [
    {
     "data": {
      "text/plain": [
       "'{\"Condition\":1,\"Model\":0,\"Box\":0,\"Space\":128}'"
      ]
     },
     "execution_count": 4,
     "metadata": {},
     "output_type": "execute_result"
    }
   ],
   "source": [
    "json_data = df.loc[10].to_json()\n",
    "json_data"
   ]
  }
 ],
 "metadata": {
  "kernelspec": {
   "display_name": "Python 3 (ipykernel)",
   "language": "python",
   "name": "python3"
  },
  "language_info": {
   "codemirror_mode": {
    "name": "ipython",
    "version": 3
   },
   "file_extension": ".py",
   "mimetype": "text/x-python",
   "name": "python",
   "nbconvert_exporter": "python",
   "pygments_lexer": "ipython3",
   "version": "3.9.13"
  }
 },
 "nbformat": 4,
 "nbformat_minor": 5
}
